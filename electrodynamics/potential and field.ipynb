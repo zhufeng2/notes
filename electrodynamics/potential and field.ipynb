{
 "cells": [
  {
   "cell_type": "markdown",
   "metadata": {},
   "source": [
    "## potentials and feilds\n",
    "### 规范变换\n"
   ]
  },
  {
   "cell_type": "markdown",
   "metadata": {},
   "source": [
    "在电动力学中，假设波源的位置发送变换，接受波源传来的信息的位置不变，那么，经过t时间传过来的信息时，波源的位置早已改变，我们获得的波源信息应该是$\\frac{i}{c}$时间之前的波源信息，而不是此时的时间t，因此我们定义推迟时间：\n",
    "$$t_r = t - \\frac{i}{c}$$\n",
    "现在联系麦克斯韦方程组，电荷和电源代表源，这些源是产生电磁场的原因，因此计算电场和磁场所用的源应该是推迟时间下的：\n",
    "$$V = \\frac{1}{4\\pi \\varepsilon}\\int \\frac{\\rho{(r',t_r)}}{i} d\\tau$$\n",
    "$$A = \\frac{\\mu_0}{4\\pi}\\int \\frac{J(r',t_r)}{i} d\\tau$$\n",
    "根据上述方程可以得到，在推迟时间下产生的电磁场满足四维非齐次拉普拉斯方程：\n",
    "$$\\nabla^2V = \\frac{1}{c^2}\\frac{\\partial^2 V}{\\partial t^2}-\\frac{\\rho{(r,t)}}{\\varepsilon_0}\\Rightarrow \\Box^2 V = -\\frac{\\rho{(r,t)}}{\\varepsilon_0}$$"
   ]
  },
  {
   "cell_type": "code",
   "execution_count": 14,
   "metadata": {},
   "outputs": [
    {
     "name": "stdout",
     "output_type": "stream",
     "text": [
      "\n",
      "1/(R.x**2 + R.y**2 + R.z**2)\n"
     ]
    },
    {
     "data": {
      "image/png": "[encoded data removed]",
      "text/latex": [
       "$\\displaystyle 0$"
      ],
      "text/plain": [
       "0"
      ]
     },
     "execution_count": 14,
     "metadata": {},
     "output_type": "execute_result"
    }
   ],
   "source": [
    "import numpy as np\n",
    "import matplotlib.pyplot as plt\n",
    "import sympy as sp\n",
    "import sympy.vector as spv\n",
    "\n",
    "x, y, z = sp.symbols(\"x y z\")\n",
    "sp.simplify(\n",
    "    sp.diff(x / sp.sqrt(x**2 + y**2 + z**2), x)\n",
    "    + sp.diff(y / sp.sqrt(x**2 + y**2 + z**2), y)\n",
    "    + sp.diff(z / sp.sqrt(x**2 + y**2 + z**2), z)\n",
    ")\n",
    "\n",
    "sp.init_printing(use_latex=\"mathjax\")\n",
    "\n",
    "R = spv.CoordSys3D(\"R\")\n",
    "r = R.x * R.i + R.y * R.j + R.z * R.k\n",
    "rest1 = spv.divergence(r / ((R.x) ** 2 + (R.y) ** 2 + (R.z) ** 2))\n",
    "rest2 = spv.divergence(r / ((R.x) ** 2 + (R.y) ** 2 + (R.z) ** 2) ** (1.5))\n",
    "print(sp.simplify(rest1))\n",
    "sp.simplify(rest2)"
   ]
  },
  {
   "cell_type": "code",
   "execution_count": 7,
   "metadata": {},
   "outputs": [
    {
     "data": {
      "image/png": "[encoded data removed]",
      "text/latex": [
       "$\\displaystyle \\frac{1}{\\mathbf{{r}_{c}}^{2}}$"
      ],
      "text/plain": [
       " 1  \n",
       "────\n",
       "   2\n",
       "r_c "
      ]
     },
     "execution_count": 7,
     "metadata": {},
     "output_type": "execute_result"
    }
   ],
   "source": [
    "c = spv.CoordSys3D(\"c\", transformation=\"spherical\")\n",
    "r = c.r*c.i\n",
    "rest = spv.divergence(r/c.r**2)\n",
    "sp.simplify(rest)"
   ]
  }
 ],
 "metadata": {
  "kernelspec": {
   "display_name": "Python 3",
   "language": "python",
   "name": "python3"
  },
  "language_info": {
   "codemirror_mode": {
    "name": "ipython",
    "version": 3
   },
   "file_extension": ".py",
   "mimetype": "text/x-python",
   "name": "python",
   "nbconvert_exporter": "python",
   "pygments_lexer": "ipython3",
   "version": "3.8.10"
  }
 },
 "nbformat": 4,
 "nbformat_minor": 2
}
