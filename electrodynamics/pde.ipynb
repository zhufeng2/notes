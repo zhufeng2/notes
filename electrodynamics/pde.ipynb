{
 "cells": [
  {
   "cell_type": "markdown",
   "metadata": {},
   "source": [
    "这是一段讲解代码$\\frac{\\partial u}{\\partial t} = \\frac{\\partial^2 u}{\\partial x^2}$的代码"
   ]
  },
  {
   "cell_type": "code",
   "execution_count": 1,
   "metadata": {},
   "outputs": [],
   "source": [
    "import numpy as np\n",
    "import matplotlib.pyplot as plt"
   ]
  },
  {
   "cell_type": "code",
   "execution_count": null,
   "metadata": {},
   "outputs": [],
   "source": [
    "plt.style.use(\"_mpl-gallery\")\n",
    "\n",
    "D = 1\n",
    "m = 250\n",
    "n = 10\n",
    "sigma = 0.4\n",
    "\n",
    "mesh = np.zeros((m, n))\n",
    "# boundary condition when x=0 and x=1\n",
    "mesh[:, 99] = 0\n",
    "mesh[:, 99] = 1\n",
    "\n",
    "for i in range(m):\n",
    "    for j in range(n):\n",
    "        mesh[i, j + 1] = (\n",
    "            sigma * mesh[i + 1, j]\n",
    "            + (1 - 2 * sigma) * mesh[i, j]\n",
    "            + sigma * mesh[i - 1, j]\n",
    "        )\n",
    "\n",
    "\n",
    "# boundary condition when t=0\n",
    "def boundary(x):\n",
    "    return np.sin(2 * np.pi * x) ** 2"
   ]
  }
 ],
 "metadata": {
  "kernelspec": {
   "display_name": "Python 3",
   "language": "python",
   "name": "python3"
  },
  "language_info": {
   "codemirror_mode": {
    "name": "ipython",
    "version": 3
   },
   "file_extension": ".py",
   "mimetype": "text/x-python",
   "name": "python",
   "nbconvert_exporter": "python",
   "pygments_lexer": "ipython3",
   "version": "3.8.10"
  }
 },
 "nbformat": 4,
 "nbformat_minor": 2
}
